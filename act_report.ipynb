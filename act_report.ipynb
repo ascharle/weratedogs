{
 "cells": [
  {
   "cell_type": "code",
   "execution_count": 15,
   "metadata": {},
   "outputs": [],
   "source": [
    "import pandas as pd\n",
    "import numpy as np\n",
    "import matplotlib.pyplot as plt\n",
    "%matplotlib inline\n",
    "import seaborn as sns\n",
    "sns.set_style('darkgrid')\n",
    "\n",
    "df = pd.read_csv('twitter_archive_master.csv')\n",
    "df_image = pd.read_csv('wrangled_image_pred.csv')"
   ]
  },
  {
   "cell_type": "markdown",
   "metadata": {},
   "source": [
    "### Data Wrangling"
   ]
  },
  {
   "cell_type": "code",
   "execution_count": 16,
   "metadata": {
    "scrolled": true
   },
   "outputs": [
    {
     "data": {
      "text/html": [
       "<div>\n",
       "<style scoped>\n",
       "    .dataframe tbody tr th:only-of-type {\n",
       "        vertical-align: middle;\n",
       "    }\n",
       "\n",
       "    .dataframe tbody tr th {\n",
       "        vertical-align: top;\n",
       "    }\n",
       "\n",
       "    .dataframe thead th {\n",
       "        text-align: right;\n",
       "    }\n",
       "</style>\n",
       "<table border=\"1\" class=\"dataframe\">\n",
       "  <thead>\n",
       "    <tr style=\"text-align: right;\">\n",
       "      <th></th>\n",
       "      <th>Unnamed: 0</th>\n",
       "      <th>tweet_id</th>\n",
       "      <th>timestamp</th>\n",
       "      <th>text</th>\n",
       "      <th>expanded_urls</th>\n",
       "      <th>rating_numerator</th>\n",
       "      <th>rating_denominator</th>\n",
       "      <th>name</th>\n",
       "      <th>stage</th>\n",
       "      <th>retweet_count</th>\n",
       "      <th>favorite_count</th>\n",
       "    </tr>\n",
       "  </thead>\n",
       "  <tbody>\n",
       "    <tr>\n",
       "      <th>0</th>\n",
       "      <td>0</td>\n",
       "      <td>892420643555336193</td>\n",
       "      <td>2017-08-01 16:23:56</td>\n",
       "      <td>This is Phineas. He's a mystical boy. Only eve...</td>\n",
       "      <td>https://twitter.com/dog_rates/status/892420643...</td>\n",
       "      <td>13.0</td>\n",
       "      <td>10</td>\n",
       "      <td>Phineas</td>\n",
       "      <td>NaN</td>\n",
       "      <td>7748.0</td>\n",
       "      <td>36433.0</td>\n",
       "    </tr>\n",
       "  </tbody>\n",
       "</table>\n",
       "</div>"
      ],
      "text/plain": [
       "   Unnamed: 0            tweet_id            timestamp  \\\n",
       "0           0  892420643555336193  2017-08-01 16:23:56   \n",
       "\n",
       "                                                text  \\\n",
       "0  This is Phineas. He's a mystical boy. Only eve...   \n",
       "\n",
       "                                       expanded_urls  rating_numerator  \\\n",
       "0  https://twitter.com/dog_rates/status/892420643...              13.0   \n",
       "\n",
       "   rating_denominator     name stage  retweet_count  favorite_count  \n",
       "0                  10  Phineas   NaN         7748.0         36433.0  "
      ]
     },
     "execution_count": 16,
     "metadata": {},
     "output_type": "execute_result"
    }
   ],
   "source": [
    "df.head(1)"
   ]
  },
  {
   "cell_type": "markdown",
   "metadata": {},
   "source": [
    "> drop the columns we do not need: ['Unnamed: 0', 'timestamp', 'text', 'expanded_urls', 'name']"
   ]
  },
  {
   "cell_type": "code",
   "execution_count": 17,
   "metadata": {},
   "outputs": [],
   "source": [
    "df.drop(['Unnamed: 0', 'timestamp', 'text', 'expanded_urls', 'name'],axis=1, inplace=True)"
   ]
  },
  {
   "cell_type": "code",
   "execution_count": 18,
   "metadata": {
    "scrolled": true
   },
   "outputs": [
    {
     "data": {
      "text/html": [
       "<div>\n",
       "<style scoped>\n",
       "    .dataframe tbody tr th:only-of-type {\n",
       "        vertical-align: middle;\n",
       "    }\n",
       "\n",
       "    .dataframe tbody tr th {\n",
       "        vertical-align: top;\n",
       "    }\n",
       "\n",
       "    .dataframe thead th {\n",
       "        text-align: right;\n",
       "    }\n",
       "</style>\n",
       "<table border=\"1\" class=\"dataframe\">\n",
       "  <thead>\n",
       "    <tr style=\"text-align: right;\">\n",
       "      <th></th>\n",
       "      <th>tweet_id</th>\n",
       "      <th>rating_numerator</th>\n",
       "      <th>rating_denominator</th>\n",
       "      <th>stage</th>\n",
       "      <th>retweet_count</th>\n",
       "      <th>favorite_count</th>\n",
       "    </tr>\n",
       "  </thead>\n",
       "  <tbody>\n",
       "    <tr>\n",
       "      <th>0</th>\n",
       "      <td>892420643555336193</td>\n",
       "      <td>13.0</td>\n",
       "      <td>10</td>\n",
       "      <td>NaN</td>\n",
       "      <td>7748.0</td>\n",
       "      <td>36433.0</td>\n",
       "    </tr>\n",
       "    <tr>\n",
       "      <th>1</th>\n",
       "      <td>892177421306343426</td>\n",
       "      <td>13.0</td>\n",
       "      <td>10</td>\n",
       "      <td>NaN</td>\n",
       "      <td>5740.0</td>\n",
       "      <td>31401.0</td>\n",
       "    </tr>\n",
       "    <tr>\n",
       "      <th>2</th>\n",
       "      <td>891815181378084864</td>\n",
       "      <td>12.0</td>\n",
       "      <td>10</td>\n",
       "      <td>NaN</td>\n",
       "      <td>3799.0</td>\n",
       "      <td>23657.0</td>\n",
       "    </tr>\n",
       "    <tr>\n",
       "      <th>3</th>\n",
       "      <td>891689557279858688</td>\n",
       "      <td>13.0</td>\n",
       "      <td>10</td>\n",
       "      <td>NaN</td>\n",
       "      <td>7913.0</td>\n",
       "      <td>39764.0</td>\n",
       "    </tr>\n",
       "    <tr>\n",
       "      <th>4</th>\n",
       "      <td>891327558926688256</td>\n",
       "      <td>12.0</td>\n",
       "      <td>10</td>\n",
       "      <td>NaN</td>\n",
       "      <td>8540.0</td>\n",
       "      <td>37971.0</td>\n",
       "    </tr>\n",
       "  </tbody>\n",
       "</table>\n",
       "</div>"
      ],
      "text/plain": [
       "             tweet_id  rating_numerator  rating_denominator stage  \\\n",
       "0  892420643555336193              13.0                  10   NaN   \n",
       "1  892177421306343426              13.0                  10   NaN   \n",
       "2  891815181378084864              12.0                  10   NaN   \n",
       "3  891689557279858688              13.0                  10   NaN   \n",
       "4  891327558926688256              12.0                  10   NaN   \n",
       "\n",
       "   retweet_count  favorite_count  \n",
       "0         7748.0         36433.0  \n",
       "1         5740.0         31401.0  \n",
       "2         3799.0         23657.0  \n",
       "3         7913.0         39764.0  \n",
       "4         8540.0         37971.0  "
      ]
     },
     "execution_count": 18,
     "metadata": {},
     "output_type": "execute_result"
    }
   ],
   "source": [
    "df.head()"
   ]
  },
  {
   "cell_type": "code",
   "execution_count": 19,
   "metadata": {
    "scrolled": true
   },
   "outputs": [
    {
     "name": "stdout",
     "output_type": "stream",
     "text": [
      "<class 'pandas.core.frame.DataFrame'>\n",
      "RangeIndex: 2080 entries, 0 to 2079\n",
      "Data columns (total 6 columns):\n",
      "tweet_id              2080 non-null int64\n",
      "rating_numerator      2080 non-null float64\n",
      "rating_denominator    2080 non-null int64\n",
      "stage                 336 non-null object\n",
      "retweet_count         2073 non-null float64\n",
      "favorite_count        2073 non-null float64\n",
      "dtypes: float64(3), int64(2), object(1)\n",
      "memory usage: 97.6+ KB\n"
     ]
    }
   ],
   "source": [
    "df.info()"
   ]
  },
  {
   "cell_type": "code",
   "execution_count": 20,
   "metadata": {},
   "outputs": [
    {
     "data": {
      "text/html": [
       "<div>\n",
       "<style scoped>\n",
       "    .dataframe tbody tr th:only-of-type {\n",
       "        vertical-align: middle;\n",
       "    }\n",
       "\n",
       "    .dataframe tbody tr th {\n",
       "        vertical-align: top;\n",
       "    }\n",
       "\n",
       "    .dataframe thead th {\n",
       "        text-align: right;\n",
       "    }\n",
       "</style>\n",
       "<table border=\"1\" class=\"dataframe\">\n",
       "  <thead>\n",
       "    <tr style=\"text-align: right;\">\n",
       "      <th></th>\n",
       "      <th>tweet_id</th>\n",
       "      <th>rating_numerator</th>\n",
       "      <th>rating_denominator</th>\n",
       "      <th>retweet_count</th>\n",
       "      <th>favorite_count</th>\n",
       "    </tr>\n",
       "  </thead>\n",
       "  <tbody>\n",
       "    <tr>\n",
       "      <th>count</th>\n",
       "      <td>2.080000e+03</td>\n",
       "      <td>2080.000000</td>\n",
       "      <td>2080.0</td>\n",
       "      <td>2073.000000</td>\n",
       "      <td>2073.000000</td>\n",
       "    </tr>\n",
       "    <tr>\n",
       "      <th>mean</th>\n",
       "      <td>7.367027e+17</td>\n",
       "      <td>11.656144</td>\n",
       "      <td>10.0</td>\n",
       "      <td>2537.566329</td>\n",
       "      <td>8415.781476</td>\n",
       "    </tr>\n",
       "    <tr>\n",
       "      <th>std</th>\n",
       "      <td>6.724699e+16</td>\n",
       "      <td>39.789764</td>\n",
       "      <td>0.0</td>\n",
       "      <td>4446.856819</td>\n",
       "      <td>12226.668632</td>\n",
       "    </tr>\n",
       "    <tr>\n",
       "      <th>min</th>\n",
       "      <td>6.660209e+17</td>\n",
       "      <td>0.000000</td>\n",
       "      <td>10.0</td>\n",
       "      <td>11.000000</td>\n",
       "      <td>72.000000</td>\n",
       "    </tr>\n",
       "    <tr>\n",
       "      <th>25%</th>\n",
       "      <td>6.767367e+17</td>\n",
       "      <td>10.000000</td>\n",
       "      <td>10.0</td>\n",
       "      <td>561.000000</td>\n",
       "      <td>1857.000000</td>\n",
       "    </tr>\n",
       "    <tr>\n",
       "      <th>50%</th>\n",
       "      <td>7.097095e+17</td>\n",
       "      <td>11.000000</td>\n",
       "      <td>10.0</td>\n",
       "      <td>1231.000000</td>\n",
       "      <td>3855.000000</td>\n",
       "    </tr>\n",
       "    <tr>\n",
       "      <th>75%</th>\n",
       "      <td>7.880674e+17</td>\n",
       "      <td>12.000000</td>\n",
       "      <td>10.0</td>\n",
       "      <td>2904.000000</td>\n",
       "      <td>10502.000000</td>\n",
       "    </tr>\n",
       "    <tr>\n",
       "      <th>max</th>\n",
       "      <td>8.924206e+17</td>\n",
       "      <td>1776.000000</td>\n",
       "      <td>10.0</td>\n",
       "      <td>78388.000000</td>\n",
       "      <td>157470.000000</td>\n",
       "    </tr>\n",
       "  </tbody>\n",
       "</table>\n",
       "</div>"
      ],
      "text/plain": [
       "           tweet_id  rating_numerator  rating_denominator  retweet_count  \\\n",
       "count  2.080000e+03       2080.000000              2080.0    2073.000000   \n",
       "mean   7.367027e+17         11.656144                10.0    2537.566329   \n",
       "std    6.724699e+16         39.789764                 0.0    4446.856819   \n",
       "min    6.660209e+17          0.000000                10.0      11.000000   \n",
       "25%    6.767367e+17         10.000000                10.0     561.000000   \n",
       "50%    7.097095e+17         11.000000                10.0    1231.000000   \n",
       "75%    7.880674e+17         12.000000                10.0    2904.000000   \n",
       "max    8.924206e+17       1776.000000                10.0   78388.000000   \n",
       "\n",
       "       favorite_count  \n",
       "count     2073.000000  \n",
       "mean      8415.781476  \n",
       "std      12226.668632  \n",
       "min         72.000000  \n",
       "25%       1857.000000  \n",
       "50%       3855.000000  \n",
       "75%      10502.000000  \n",
       "max     157470.000000  "
      ]
     },
     "execution_count": 20,
     "metadata": {},
     "output_type": "execute_result"
    }
   ],
   "source": [
    "df.describe()"
   ]
  },
  {
   "cell_type": "code",
   "execution_count": 26,
   "metadata": {},
   "outputs": [],
   "source": [
    "df.drop(index=list(df.query('rating_numerator>=20').index),inplace=True)`b"
   ]
  },
  {
   "cell_type": "markdown",
   "metadata": {},
   "source": [
    "### Exploratory Data Analysis"
   ]
  },
  {
   "cell_type": "markdown",
   "metadata": {},
   "source": [
    "#### Research Question 1: Are the ratings by WeRateDogs relative to the retweet count and favorite count?"
   ]
  },
  {
   "cell_type": "code",
   "execution_count": 27,
   "metadata": {},
   "outputs": [
    {
     "data": {
      "image/png": "[encoded data removed]",
      "text/plain": [
       "<matplotlib.figure.Figure at 0x7f5399f4d128>"
      ]
     },
     "metadata": {},
     "output_type": "display_data"
    }
   ],
   "source": [
    "#Let's look at the relationship between 'rating_numerator' and 'retweet_count'\n",
    "\n",
    "df.plot(x='rating_numerator',y='retweet_count',kind='scatter');"
   ]
  },
  {
   "cell_type": "markdown",
   "metadata": {},
   "source": [
    "> Yes, they are pretty relative!"
   ]
  },
  {
   "cell_type": "code",
   "execution_count": 28,
   "metadata": {},
   "outputs": [
    {
     "data": {
      "image/png": "[encoded data removed]",
      "text/plain": [
       "<matplotlib.figure.Figure at 0x7f539cbdeb00>"
      ]
     },
     "metadata": {},
     "output_type": "display_data"
    }
   ],
   "source": [
    "#Let's look at the relationship between 'rating_numerator' and 'favorite count'\n",
    "\n",
    "df.plot(x='rating_numerator',y='favorite_count',kind='scatter');"
   ]
  },
  {
   "cell_type": "markdown",
   "metadata": {},
   "source": [
    "> They are relative,too, and I also found that rating_numerator 13 got the highest favorite counts and retweet counts."
   ]
  },
  {
   "cell_type": "markdown",
   "metadata": {},
   "source": [
    "#### Research Question 2: Which stage of dogs got the highest retweet counts and favorite counts?"
   ]
  },
  {
   "cell_type": "code",
   "execution_count": 29,
   "metadata": {},
   "outputs": [],
   "source": [
    "# we only need the rows with stages\n",
    "df_stage = df[df[\"stage\"].isnull()==False]"
   ]
  },
  {
   "cell_type": "code",
   "execution_count": 30,
   "metadata": {},
   "outputs": [
    {
     "data": {
      "text/plain": [
       "<matplotlib.axes._subplots.AxesSubplot at 0x7f5399e29048>"
      ]
     },
     "execution_count": 30,
     "metadata": {},
     "output_type": "execute_result"
    },
    {
     "data": {
      "image/png": "[encoded data removed]",
      "text/plain": [
       "<matplotlib.figure.Figure at 0x7f5399e1b0f0>"
      ]
     },
     "metadata": {},
     "output_type": "display_data"
    }
   ],
   "source": [
    "#visualization 'Average favorite counts by stages of dogs'\n",
    "by_stages = df_stage.query('stage==\"pupper\" or stage==\"doggo\" or stage==\"puppo\" or stage==\"floofer\"')\n",
    "favorite_counts_by_stages = pd.DataFrame(by_stages.groupby('stage').favorite_count.mean().sort_values())\n",
    "favorite_counts_by_stages['stages'] = favorite_counts_by_stages.index\n",
    "favorite_counts_by_stages.plot(x=\"stages\",y='favorite_count',kind='barh',title=\"Average favorite counts by stages of dogs\",color='r', alpha=0.6)"
   ]
  },
  {
   "cell_type": "code",
   "execution_count": 31,
   "metadata": {
    "scrolled": true
   },
   "outputs": [
    {
     "data": {
      "text/plain": [
       "<matplotlib.axes._subplots.AxesSubplot at 0x7f5399d3f748>"
      ]
     },
     "execution_count": 31,
     "metadata": {},
     "output_type": "execute_result"
    },
    {
     "data": {
      "image/png": "[encoded data removed]",
      "text/plain": [
       "<matplotlib.figure.Figure at 0x7f539ab3b400>"
      ]
     },
     "metadata": {},
     "output_type": "display_data"
    }
   ],
   "source": [
    "#visualization 'Average retweet counts by stages of dogs'\n",
    "\n",
    "retweet_count_by_stages = pd.DataFrame(by_stages.groupby('stage').retweet_count.mean().sort_values())\n",
    "retweet_count_by_stages['stages'] = favorite_counts_by_stages.index\n",
    "retweet_count_by_stages.plot(x=\"stages\",y='retweet_count',kind='barh',title=\"Average retweetcounts by stages of dogs\",color='r', alpha=0.6)"
   ]
  },
  {
   "cell_type": "markdown",
   "metadata": {},
   "source": [
    "> The stage of Puppo got the highest retweet counts and favorite counts, which is almost 3 times higher than the breed of pupper."
   ]
  },
  {
   "cell_type": "markdown",
   "metadata": {},
   "source": [
    "#### Research Question 3: Whats are the top three breeds of dogs got the average highest retweet counts ?"
   ]
  },
  {
   "cell_type": "code",
   "execution_count": 32,
   "metadata": {},
   "outputs": [
    {
     "name": "stderr",
     "output_type": "stream",
     "text": [
      "/opt/conda/lib/python3.6/site-packages/ipykernel_launcher.py:7: SettingWithCopyWarning: \n",
      "A value is trying to be set on a copy of a slice from a DataFrame.\n",
      "Try using .loc[row_indexer,col_indexer] = value instead\n",
      "\n",
      "See the caveats in the documentation: http://pandas.pydata.org/pandas-docs/stable/indexing.html#indexing-view-versus-copy\n",
      "  import sys\n"
     ]
    }
   ],
   "source": [
    "#extract data that has retweet_count and save them into variable \"retweet_and_favorite_count\"\n",
    "#get the index of ids with retweet_count\n",
    "#create a column called 'predicted_breed' for putting the breed later on.\n",
    "\n",
    "retweet_and_favorite_count = df[df[\"retweet_count\"].isnull()==False]\n",
    "id_with_retweet = list(retweet_and_favorite_count.tweet_id)\n",
    "retweet_and_favorite_count['predicted_breed'] = None"
   ]
  },
  {
   "cell_type": "code",
   "execution_count": 33,
   "metadata": {
    "scrolled": false
   },
   "outputs": [
    {
     "data": {
      "text/html": [
       "<div>\n",
       "<style scoped>\n",
       "    .dataframe tbody tr th:only-of-type {\n",
       "        vertical-align: middle;\n",
       "    }\n",
       "\n",
       "    .dataframe tbody tr th {\n",
       "        vertical-align: top;\n",
       "    }\n",
       "\n",
       "    .dataframe thead th {\n",
       "        text-align: right;\n",
       "    }\n",
       "</style>\n",
       "<table border=\"1\" class=\"dataframe\">\n",
       "  <thead>\n",
       "    <tr style=\"text-align: right;\">\n",
       "      <th></th>\n",
       "      <th>tweet_id</th>\n",
       "      <th>rating_numerator</th>\n",
       "      <th>rating_denominator</th>\n",
       "      <th>stage</th>\n",
       "      <th>retweet_count</th>\n",
       "      <th>favorite_count</th>\n",
       "      <th>predicted_breed</th>\n",
       "    </tr>\n",
       "  </thead>\n",
       "  <tbody>\n",
       "    <tr>\n",
       "      <th>0</th>\n",
       "      <td>892420643555336193</td>\n",
       "      <td>13.0</td>\n",
       "      <td>10</td>\n",
       "      <td>NaN</td>\n",
       "      <td>7748.0</td>\n",
       "      <td>36433.0</td>\n",
       "      <td>None</td>\n",
       "    </tr>\n",
       "    <tr>\n",
       "      <th>1</th>\n",
       "      <td>892177421306343426</td>\n",
       "      <td>13.0</td>\n",
       "      <td>10</td>\n",
       "      <td>NaN</td>\n",
       "      <td>5740.0</td>\n",
       "      <td>31401.0</td>\n",
       "      <td>None</td>\n",
       "    </tr>\n",
       "    <tr>\n",
       "      <th>2</th>\n",
       "      <td>891815181378084864</td>\n",
       "      <td>12.0</td>\n",
       "      <td>10</td>\n",
       "      <td>NaN</td>\n",
       "      <td>3799.0</td>\n",
       "      <td>23657.0</td>\n",
       "      <td>None</td>\n",
       "    </tr>\n",
       "    <tr>\n",
       "      <th>3</th>\n",
       "      <td>891689557279858688</td>\n",
       "      <td>13.0</td>\n",
       "      <td>10</td>\n",
       "      <td>NaN</td>\n",
       "      <td>7913.0</td>\n",
       "      <td>39764.0</td>\n",
       "      <td>None</td>\n",
       "    </tr>\n",
       "    <tr>\n",
       "      <th>4</th>\n",
       "      <td>891327558926688256</td>\n",
       "      <td>12.0</td>\n",
       "      <td>10</td>\n",
       "      <td>NaN</td>\n",
       "      <td>8540.0</td>\n",
       "      <td>37971.0</td>\n",
       "      <td>None</td>\n",
       "    </tr>\n",
       "  </tbody>\n",
       "</table>\n",
       "</div>"
      ],
      "text/plain": [
       "             tweet_id  rating_numerator  rating_denominator stage  \\\n",
       "0  892420643555336193              13.0                  10   NaN   \n",
       "1  892177421306343426              13.0                  10   NaN   \n",
       "2  891815181378084864              12.0                  10   NaN   \n",
       "3  891689557279858688              13.0                  10   NaN   \n",
       "4  891327558926688256              12.0                  10   NaN   \n",
       "\n",
       "   retweet_count  favorite_count predicted_breed  \n",
       "0         7748.0         36433.0            None  \n",
       "1         5740.0         31401.0            None  \n",
       "2         3799.0         23657.0            None  \n",
       "3         7913.0         39764.0            None  \n",
       "4         8540.0         37971.0            None  "
      ]
     },
     "execution_count": 33,
     "metadata": {},
     "output_type": "execute_result"
    }
   ],
   "source": [
    "retweet_and_favorite_count.head()"
   ]
  },
  {
   "cell_type": "code",
   "execution_count": 34,
   "metadata": {
    "scrolled": true
   },
   "outputs": [
    {
     "data": {
      "text/plain": [
       "1643"
      ]
     },
     "execution_count": 34,
     "metadata": {},
     "output_type": "execute_result"
    }
   ],
   "source": [
    "# find the ids that are also in the df_image.\n",
    "has_data = []\n",
    "\n",
    "for i in id_with_retweet:\n",
    "    if len(list(df_image[df_image['tweet_id']==i].p1_dog.index))!=0:\n",
    "        has_data.append(i)\n",
    "    \n",
    "len(has_data)"
   ]
  },
  {
   "cell_type": "code",
   "execution_count": 35,
   "metadata": {
    "scrolled": true
   },
   "outputs": [
    {
     "name": "stderr",
     "output_type": "stream",
     "text": [
      "/opt/conda/lib/python3.6/site-packages/ipykernel_launcher.py:6: SettingWithCopyWarning: \n",
      "A value is trying to be set on a copy of a slice from a DataFrame\n",
      "\n",
      "See the caveats in the documentation: http://pandas.pydata.org/pandas-docs/stable/indexing.html#indexing-view-versus-copy\n",
      "  \n",
      "/opt/conda/lib/python3.6/site-packages/IPython/core/interactiveshell.py:2961: SettingWithCopyWarning: \n",
      "A value is trying to be set on a copy of a slice from a DataFrame\n",
      "\n",
      "See the caveats in the documentation: http://pandas.pydata.org/pandas-docs/stable/indexing.html#indexing-view-versus-copy\n",
      "  exec(code_obj, self.user_global_ns, self.user_ns)\n",
      "/opt/conda/lib/python3.6/site-packages/ipykernel_launcher.py:8: SettingWithCopyWarning: \n",
      "A value is trying to be set on a copy of a slice from a DataFrame\n",
      "\n",
      "See the caveats in the documentation: http://pandas.pydata.org/pandas-docs/stable/indexing.html#indexing-view-versus-copy\n",
      "  \n",
      "/opt/conda/lib/python3.6/site-packages/ipykernel_launcher.py:10: SettingWithCopyWarning: \n",
      "A value is trying to be set on a copy of a slice from a DataFrame\n",
      "\n",
      "See the caveats in the documentation: http://pandas.pydata.org/pandas-docs/stable/indexing.html#indexing-view-versus-copy\n",
      "  # Remove the CWD from sys.path while we load stuff.\n"
     ]
    }
   ],
   "source": [
    "# use for loop to determine their predicted breed by the highest probability of its predicted breed.\n",
    "\n",
    "for i in has_data:\n",
    "    index = list(retweet_and_favorite_count[retweet_and_favorite_count['tweet_id']==i].index)[0]\n",
    "    if list(df_image[df_image['tweet_id']==i].p1_dog.values)[0] == True:\n",
    "        retweet_and_favorite_count.predicted_breed[index] = list(df_image[df_image['tweet_id']==i].p1.values)[0]\n",
    "    elif list(df_image[df_image['tweet_id']==i].p2_dog.values)[0] == True:\n",
    "        retweet_and_favorite_count.predicted_breed[index] = list(df_image[df_image['tweet_id']==i].p2.values)[0]\n",
    "    elif list(df_image[df_image['tweet_id']==i].p3_dog.values)[0] == True:\n",
    "        retweet_and_favorite_count.predicted_breed[index] = list(df_image[df_image['tweet_id']==i].p3.values)[0]"
   ]
  },
  {
   "cell_type": "code",
   "execution_count": 36,
   "metadata": {
    "scrolled": false
   },
   "outputs": [
    {
     "data": {
      "text/html": [
       "<div>\n",
       "<style scoped>\n",
       "    .dataframe tbody tr th:only-of-type {\n",
       "        vertical-align: middle;\n",
       "    }\n",
       "\n",
       "    .dataframe tbody tr th {\n",
       "        vertical-align: top;\n",
       "    }\n",
       "\n",
       "    .dataframe thead th {\n",
       "        text-align: right;\n",
       "    }\n",
       "</style>\n",
       "<table border=\"1\" class=\"dataframe\">\n",
       "  <thead>\n",
       "    <tr style=\"text-align: right;\">\n",
       "      <th></th>\n",
       "      <th>tweet_id</th>\n",
       "      <th>rating_numerator</th>\n",
       "      <th>rating_denominator</th>\n",
       "      <th>stage</th>\n",
       "      <th>retweet_count</th>\n",
       "      <th>favorite_count</th>\n",
       "      <th>predicted_breed</th>\n",
       "    </tr>\n",
       "  </thead>\n",
       "  <tbody>\n",
       "    <tr>\n",
       "      <th>2045</th>\n",
       "      <td>666437273139982337</td>\n",
       "      <td>7.0</td>\n",
       "      <td>10</td>\n",
       "      <td>NaN</td>\n",
       "      <td>42.0</td>\n",
       "      <td>117.0</td>\n",
       "      <td>Chihuahua</td>\n",
       "    </tr>\n",
       "    <tr>\n",
       "      <th>459</th>\n",
       "      <td>797545162159308800</td>\n",
       "      <td>12.0</td>\n",
       "      <td>10</td>\n",
       "      <td>NaN</td>\n",
       "      <td>5015.0</td>\n",
       "      <td>14959.0</td>\n",
       "      <td>Pembroke</td>\n",
       "    </tr>\n",
       "    <tr>\n",
       "      <th>1407</th>\n",
       "      <td>683357973142474752</td>\n",
       "      <td>10.0</td>\n",
       "      <td>10</td>\n",
       "      <td>NaN</td>\n",
       "      <td>917.0</td>\n",
       "      <td>2930.0</td>\n",
       "      <td>Pembroke</td>\n",
       "    </tr>\n",
       "    <tr>\n",
       "      <th>1518</th>\n",
       "      <td>678341075375947776</td>\n",
       "      <td>12.0</td>\n",
       "      <td>10</td>\n",
       "      <td>pupper</td>\n",
       "      <td>534.0</td>\n",
       "      <td>1729.0</td>\n",
       "      <td>golden_retriever</td>\n",
       "    </tr>\n",
       "    <tr>\n",
       "      <th>1101</th>\n",
       "      <td>705591895322394625</td>\n",
       "      <td>11.0</td>\n",
       "      <td>10</td>\n",
       "      <td>NaN</td>\n",
       "      <td>1151.0</td>\n",
       "      <td>3176.0</td>\n",
       "      <td>basenji</td>\n",
       "    </tr>\n",
       "  </tbody>\n",
       "</table>\n",
       "</div>"
      ],
      "text/plain": [
       "                tweet_id  rating_numerator  rating_denominator   stage  \\\n",
       "2045  666437273139982337               7.0                  10     NaN   \n",
       "459   797545162159308800              12.0                  10     NaN   \n",
       "1407  683357973142474752              10.0                  10     NaN   \n",
       "1518  678341075375947776              12.0                  10  pupper   \n",
       "1101  705591895322394625              11.0                  10     NaN   \n",
       "\n",
       "      retweet_count  favorite_count   predicted_breed  \n",
       "2045           42.0           117.0         Chihuahua  \n",
       "459          5015.0         14959.0          Pembroke  \n",
       "1407          917.0          2930.0          Pembroke  \n",
       "1518          534.0          1729.0  golden_retriever  \n",
       "1101         1151.0          3176.0           basenji  "
      ]
     },
     "execution_count": 36,
     "metadata": {},
     "output_type": "execute_result"
    }
   ],
   "source": [
    "#test\n",
    "retweet_and_favorite_count[retweet_and_favorite_count[\"predicted_breed\"].isnull()==False].sample(5)"
   ]
  },
  {
   "cell_type": "code",
   "execution_count": 37,
   "metadata": {
    "scrolled": false
   },
   "outputs": [
    {
     "data": {
      "text/plain": [
       "count     2071.000000\n",
       "mean      2534.768711\n",
       "std       4447.146735\n",
       "min         11.000000\n",
       "25%        560.000000\n",
       "50%       1228.000000\n",
       "75%       2897.500000\n",
       "max      78388.000000\n",
       "Name: retweet_count, dtype: float64"
      ]
     },
     "execution_count": 37,
     "metadata": {},
     "output_type": "execute_result"
    }
   ],
   "source": [
    "# assess\n",
    "\n",
    "retweet_and_favorite_count.retweet_count.describe()"
   ]
  },
  {
   "cell_type": "code",
   "execution_count": 38,
   "metadata": {},
   "outputs": [],
   "source": [
    "# I determined to use 3 criteria to extract the result:\n",
    "#1. the breeds that have at least 10 counts because the data is more stable\n",
    "#2. which's std shoould be lower than 4446.856819 (std of whole dataset)\n",
    "#3. which's mean is bigger that 4659.227536(mean of whole dataset).\n",
    "\n",
    "result_df = retweet_and_favorite_count.groupby('predicted_breed').retweet_count.describe()\n",
    "result_df = result_df.query('count >= 10.0')\n",
    "result_df = result_df[result_df['std'] < 4446.856819]\n",
    "result_df = result_df[result_df['mean'] > 2537]\n",
    "result_df = result_df.sort_values(by=['mean'], ascending=False)"
   ]
  },
  {
   "cell_type": "code",
   "execution_count": 39,
   "metadata": {
    "scrolled": false
   },
   "outputs": [
    {
     "data": {
      "text/html": [
       "<div>\n",
       "<style scoped>\n",
       "    .dataframe tbody tr th:only-of-type {\n",
       "        vertical-align: middle;\n",
       "    }\n",
       "\n",
       "    .dataframe tbody tr th {\n",
       "        vertical-align: top;\n",
       "    }\n",
       "\n",
       "    .dataframe thead th {\n",
       "        text-align: right;\n",
       "    }\n",
       "</style>\n",
       "<table border=\"1\" class=\"dataframe\">\n",
       "  <thead>\n",
       "    <tr style=\"text-align: right;\">\n",
       "      <th></th>\n",
       "      <th>count</th>\n",
       "      <th>mean</th>\n",
       "      <th>std</th>\n",
       "      <th>min</th>\n",
       "      <th>25%</th>\n",
       "      <th>50%</th>\n",
       "      <th>75%</th>\n",
       "      <th>max</th>\n",
       "    </tr>\n",
       "    <tr>\n",
       "      <th>predicted_breed</th>\n",
       "      <th></th>\n",
       "      <th></th>\n",
       "      <th></th>\n",
       "      <th></th>\n",
       "      <th></th>\n",
       "      <th></th>\n",
       "      <th></th>\n",
       "      <th></th>\n",
       "    </tr>\n",
       "  </thead>\n",
       "  <tbody>\n",
       "    <tr>\n",
       "      <th>Great_Pyrenees</th>\n",
       "      <td>14.0</td>\n",
       "      <td>4200.785714</td>\n",
       "      <td>4439.868019</td>\n",
       "      <td>592.0</td>\n",
       "      <td>1446.25</td>\n",
       "      <td>1807.0</td>\n",
       "      <td>4938.25</td>\n",
       "      <td>15405.0</td>\n",
       "    </tr>\n",
       "    <tr>\n",
       "      <th>Cardigan</th>\n",
       "      <td>21.0</td>\n",
       "      <td>3348.285714</td>\n",
       "      <td>3366.409217</td>\n",
       "      <td>200.0</td>\n",
       "      <td>1377.00</td>\n",
       "      <td>2032.0</td>\n",
       "      <td>3664.00</td>\n",
       "      <td>11985.0</td>\n",
       "    </tr>\n",
       "    <tr>\n",
       "      <th>golden_retriever</th>\n",
       "      <td>153.0</td>\n",
       "      <td>3327.692810</td>\n",
       "      <td>3959.882839</td>\n",
       "      <td>47.0</td>\n",
       "      <td>1090.00</td>\n",
       "      <td>2073.0</td>\n",
       "      <td>3901.00</td>\n",
       "      <td>24685.0</td>\n",
       "    </tr>\n",
       "  </tbody>\n",
       "</table>\n",
       "</div>"
      ],
      "text/plain": [
       "                  count         mean          std    min      25%     50%  \\\n",
       "predicted_breed                                                             \n",
       "Great_Pyrenees     14.0  4200.785714  4439.868019  592.0  1446.25  1807.0   \n",
       "Cardigan           21.0  3348.285714  3366.409217  200.0  1377.00  2032.0   \n",
       "golden_retriever  153.0  3327.692810  3959.882839   47.0  1090.00  2073.0   \n",
       "\n",
       "                      75%      max  \n",
       "predicted_breed                     \n",
       "Great_Pyrenees    4938.25  15405.0  \n",
       "Cardigan          3664.00  11985.0  \n",
       "golden_retriever  3901.00  24685.0  "
      ]
     },
     "execution_count": 39,
     "metadata": {},
     "output_type": "execute_result"
    }
   ],
   "source": [
    "result_df.head(3)"
   ]
  },
  {
   "cell_type": "code",
   "execution_count": 40,
   "metadata": {
    "scrolled": true
   },
   "outputs": [
    {
     "data": {
      "image/png": "[encoded data removed]",
      "text/plain": [
       "<matplotlib.figure.Figure at 0x7f5399dd9160>"
      ]
     },
     "metadata": {},
     "output_type": "display_data"
    }
   ],
   "source": [
    "#visualization 'Top 3 highest average retweet counts by predicted breeds'\n",
    "locations = [1,2,3]\n",
    "top3 = result_df.head(3)\n",
    "\n",
    "mean_retweet_counts = list(top3['mean'])\n",
    "\n",
    "labels =  list(top3.index)\n",
    "\n",
    "plt.bar(locations, mean_retweet_counts, tick_label=labels)\n",
    "\n",
    "plt.title('Top 3 highest average retweet counts by predicted breeds')\n",
    "plt.xlabel('Breeds of dogs')\n",
    "plt.ylabel('retweet counts');"
   ]
  },
  {
   "cell_type": "markdown",
   "metadata": {},
   "source": [
    "> Great Pyenees, Cardigan, and Golden retriever are top 3 highest average retweet counts by predicted breeds. And, the top 1 breed get average 600 counts higher than the top 2 one."
   ]
  },
  {
   "cell_type": "markdown",
   "metadata": {},
   "source": [
    "#### Research Question 4: Whats are the top 5 underrated and overrated breeds of dogs? (being underrated means got the low scores from WeRateDogs but got high retweet counts and vice versa)"
   ]
  },
  {
   "cell_type": "code",
   "execution_count": 41,
   "metadata": {
    "scrolled": false
   },
   "outputs": [
    {
     "data": {
      "text/plain": [
       "count     1643.000000\n",
       "mean      2528.241023\n",
       "std       4600.169413\n",
       "min         11.000000\n",
       "25%        564.500000\n",
       "50%       1257.000000\n",
       "75%       2871.500000\n",
       "max      78388.000000\n",
       "Name: retweet_count, dtype: float64"
      ]
     },
     "execution_count": 41,
     "metadata": {},
     "output_type": "execute_result"
    }
   ],
   "source": [
    "# save the data with predicted breeds into variable 'df_with_breed'\n",
    "\n",
    "df_with_breed = retweet_and_favorite_count[retweet_and_favorite_count[\"predicted_breed\"].isnull()==False]\n",
    "df_with_breed.retweet_count.describe()"
   ]
  },
  {
   "cell_type": "code",
   "execution_count": 42,
   "metadata": {},
   "outputs": [
    {
     "data": {
      "text/plain": [
       "count    1643.000000\n",
       "mean       10.818491\n",
       "std         1.776800\n",
       "min         0.000000\n",
       "25%        10.000000\n",
       "50%        11.000000\n",
       "75%        12.000000\n",
       "max        14.000000\n",
       "Name: rating_numerator, dtype: float64"
      ]
     },
     "execution_count": 42,
     "metadata": {},
     "output_type": "execute_result"
    }
   ],
   "source": [
    "df_with_breed.rating_numerator.describe()"
   ]
  },
  {
   "cell_type": "code",
   "execution_count": 43,
   "metadata": {},
   "outputs": [
    {
     "name": "stderr",
     "output_type": "stream",
     "text": [
      "/opt/conda/lib/python3.6/site-packages/ipykernel_launcher.py:7: SettingWithCopyWarning: \n",
      "A value is trying to be set on a copy of a slice from a DataFrame.\n",
      "Try using .loc[row_indexer,col_indexer] = value instead\n",
      "\n",
      "See the caveats in the documentation: http://pandas.pydata.org/pandas-docs/stable/indexing.html#indexing-view-versus-copy\n",
      "  import sys\n",
      "/opt/conda/lib/python3.6/site-packages/ipykernel_launcher.py:12: SettingWithCopyWarning: \n",
      "A value is trying to be set on a copy of a slice from a DataFrame.\n",
      "Try using .loc[row_indexer,col_indexer] = value instead\n",
      "\n",
      "See the caveats in the documentation: http://pandas.pydata.org/pandas-docs/stable/indexing.html#indexing-view-versus-copy\n",
      "  if sys.path[0] == '':\n"
     ]
    }
   ],
   "source": [
    "#devide the retweet_count and rating_numerator into 4 levels: \n",
    "# [ 'Low', 'Medium','Moderately High' ,'High' ]\n",
    "\n",
    "bin1_edges = [11 ,564 ,1257 ,2871 ,78388] \n",
    "bin1_names = ['Low', 'Medium','Moderately High' ,'High'  ]\n",
    "\n",
    "df_with_breed['retweet_levels'] = pd.cut(df_with_breed['retweet_count'], bin1_edges, labels=bin1_names)\n",
    "\n",
    "bin2_edges = [0 ,10 ,11 ,12 ,14] \n",
    "bin2_names = ['Low', 'Medium','Moderately High' ,'High'  ]\n",
    "\n",
    "df_with_breed['rating_levels'] = pd.cut(df_with_breed['rating_numerator'], bin2_edges, labels=bin2_names)"
   ]
  },
  {
   "cell_type": "code",
   "execution_count": 44,
   "metadata": {},
   "outputs": [
    {
     "data": {
      "text/html": [
       "<div>\n",
       "<style scoped>\n",
       "    .dataframe tbody tr th:only-of-type {\n",
       "        vertical-align: middle;\n",
       "    }\n",
       "\n",
       "    .dataframe tbody tr th {\n",
       "        vertical-align: top;\n",
       "    }\n",
       "\n",
       "    .dataframe thead th {\n",
       "        text-align: right;\n",
       "    }\n",
       "</style>\n",
       "<table border=\"1\" class=\"dataframe\">\n",
       "  <thead>\n",
       "    <tr style=\"text-align: right;\">\n",
       "      <th></th>\n",
       "      <th>tweet_id</th>\n",
       "      <th>rating_numerator</th>\n",
       "      <th>rating_denominator</th>\n",
       "      <th>stage</th>\n",
       "      <th>retweet_count</th>\n",
       "      <th>favorite_count</th>\n",
       "      <th>predicted_breed</th>\n",
       "      <th>retweet_levels</th>\n",
       "      <th>rating_levels</th>\n",
       "    </tr>\n",
       "  </thead>\n",
       "  <tbody>\n",
       "    <tr>\n",
       "      <th>1</th>\n",
       "      <td>892177421306343426</td>\n",
       "      <td>13.0</td>\n",
       "      <td>10</td>\n",
       "      <td>NaN</td>\n",
       "      <td>5740.0</td>\n",
       "      <td>31401.0</td>\n",
       "      <td>Chihuahua</td>\n",
       "      <td>High</td>\n",
       "      <td>High</td>\n",
       "    </tr>\n",
       "    <tr>\n",
       "      <th>2</th>\n",
       "      <td>891815181378084864</td>\n",
       "      <td>12.0</td>\n",
       "      <td>10</td>\n",
       "      <td>NaN</td>\n",
       "      <td>3799.0</td>\n",
       "      <td>23657.0</td>\n",
       "      <td>Chihuahua</td>\n",
       "      <td>High</td>\n",
       "      <td>Moderately High</td>\n",
       "    </tr>\n",
       "    <tr>\n",
       "      <th>3</th>\n",
       "      <td>891689557279858688</td>\n",
       "      <td>13.0</td>\n",
       "      <td>10</td>\n",
       "      <td>NaN</td>\n",
       "      <td>7913.0</td>\n",
       "      <td>39764.0</td>\n",
       "      <td>Labrador_retriever</td>\n",
       "      <td>High</td>\n",
       "      <td>High</td>\n",
       "    </tr>\n",
       "    <tr>\n",
       "      <th>4</th>\n",
       "      <td>891327558926688256</td>\n",
       "      <td>12.0</td>\n",
       "      <td>10</td>\n",
       "      <td>NaN</td>\n",
       "      <td>8540.0</td>\n",
       "      <td>37971.0</td>\n",
       "      <td>basset</td>\n",
       "      <td>High</td>\n",
       "      <td>Moderately High</td>\n",
       "    </tr>\n",
       "    <tr>\n",
       "      <th>5</th>\n",
       "      <td>891087950875897856</td>\n",
       "      <td>13.0</td>\n",
       "      <td>10</td>\n",
       "      <td>NaN</td>\n",
       "      <td>2858.0</td>\n",
       "      <td>19111.0</td>\n",
       "      <td>Chesapeake_Bay_retriever</td>\n",
       "      <td>Moderately High</td>\n",
       "      <td>High</td>\n",
       "    </tr>\n",
       "  </tbody>\n",
       "</table>\n",
       "</div>"
      ],
      "text/plain": [
       "             tweet_id  rating_numerator  rating_denominator stage  \\\n",
       "1  892177421306343426              13.0                  10   NaN   \n",
       "2  891815181378084864              12.0                  10   NaN   \n",
       "3  891689557279858688              13.0                  10   NaN   \n",
       "4  891327558926688256              12.0                  10   NaN   \n",
       "5  891087950875897856              13.0                  10   NaN   \n",
       "\n",
       "   retweet_count  favorite_count           predicted_breed   retweet_levels  \\\n",
       "1         5740.0         31401.0                 Chihuahua             High   \n",
       "2         3799.0         23657.0                 Chihuahua             High   \n",
       "3         7913.0         39764.0        Labrador_retriever             High   \n",
       "4         8540.0         37971.0                    basset             High   \n",
       "5         2858.0         19111.0  Chesapeake_Bay_retriever  Moderately High   \n",
       "\n",
       "     rating_levels  \n",
       "1             High  \n",
       "2  Moderately High  \n",
       "3             High  \n",
       "4  Moderately High  \n",
       "5             High  "
      ]
     },
     "execution_count": 44,
     "metadata": {},
     "output_type": "execute_result"
    }
   ],
   "source": [
    "df_with_breed.head()"
   ]
  },
  {
   "cell_type": "code",
   "execution_count": 45,
   "metadata": {},
   "outputs": [],
   "source": [
    "#find the underrated and overrated data based on whether its difference of levels are more than\n",
    "#2 levels (i.e High vs. Medium or Moderately High vs. Low, vice versa.)\n",
    "\n",
    "underrated_df = df_with_breed.query('retweet_levels == \"High\" and rating_levels == \"Medium\" or retweet_levels == \"Moderately High\" and rating_levels == \"Low\" or retweet_levels == \"High\" and rating_levels == \"Low\" ')\n",
    "overrated_df = df_with_breed.query('retweet_levels == \"Low\" and rating_levels == \"Moderately High\" or retweet_levels == \"medium\" and rating_levels == \"High\" or retweet_levels == \"low\" and rating_levels == \"High\"')"
   ]
  },
  {
   "cell_type": "code",
   "execution_count": 46,
   "metadata": {
    "scrolled": false
   },
   "outputs": [
    {
     "data": {
      "image/png": "[encoded data removed]",
      "text/plain": [
       "<matplotlib.figure.Figure at 0x7f5399e4cda0>"
      ]
     },
     "metadata": {},
     "output_type": "display_data"
    }
   ],
   "source": [
    "# Visualize Top 5 most frequently undererated breeds by WeRateDogs\n",
    "\n",
    "underrated = underrated_df.groupby('predicted_breed').tweet_id.count().sort_values(ascending=False).head(5)\n",
    "underrated = pd.DataFrame(underrated)\n",
    "underrated.rename(columns={'tweet_id':'underrated_counts'}, inplace=True)\n",
    "underrated['predicted_breed'] = underrated.index\n",
    "underrated.plot(x=\"predicted_breed\",y='underrated_counts',kind='barh',title=\"Top 5 most frequently undererated breeds by WeRateDogs\",color='r', alpha=0.6);"
   ]
  },
  {
   "cell_type": "markdown",
   "metadata": {},
   "source": [
    "> The top 5 most frequently underrated breeds by WeRateDogs are Labrador Retriver, Golden Retriever, pug, Pembroke, maiamute. The top 1, Labrador Retriver is almost as 2 times frequently underrated as Pembroke."
   ]
  },
  {
   "cell_type": "code",
   "execution_count": 47,
   "metadata": {},
   "outputs": [
    {
     "name": "stdout",
     "output_type": "stream",
     "text": [
      "<class 'pandas.core.frame.DataFrame'>\n",
      "Index: 5 entries, Labrador_retriever to malamute\n",
      "Data columns (total 2 columns):\n",
      "underrated_counts    5 non-null int64\n",
      "predicted_breed      5 non-null object\n",
      "dtypes: int64(1), object(1)\n",
      "memory usage: 120.0+ bytes\n"
     ]
    }
   ],
   "source": [
    "underrated.info()"
   ]
  },
  {
   "cell_type": "code",
   "execution_count": 48,
   "metadata": {},
   "outputs": [
    {
     "data": {
      "image/png": "[encoded data removed]",
      "text/plain": [
       "<matplotlib.figure.Figure at 0x7f539cb9b358>"
      ]
     },
     "metadata": {},
     "output_type": "display_data"
    }
   ],
   "source": [
    "# Visualize Top 5 most frequently overerated breeds by WeRateDogs\n",
    "\n",
    "overrated = overrated_df.groupby('predicted_breed').tweet_id.count().sort_values(ascending=False).head(5)\n",
    "overrated= pd.DataFrame(overrated)\n",
    "overrated.rename(columns={'tweet_id':'overrated_counts'}, inplace=True)\n",
    "overrated['predicted_breed'] = overrated.index\n",
    "overrated.plot(x=\"predicted_breed\",y='overrated_counts',kind='barh',title=\"Top 5 most frequently overrated breeds by WeRateDogs\",color='r', alpha=0.6);"
   ]
  },
  {
   "cell_type": "markdown",
   "metadata": {},
   "source": [
    "> The top 5 most frequently overrated breeds by WeRateDogs are Golden Retriever, American Staffordshire terrior, Cardigan, chow, Pomeranian.\n",
    "The top 1, Golden Retriever, is almost as 2 times frequently underrated as the rest."
   ]
  },
  {
   "cell_type": "code",
   "execution_count": null,
   "metadata": {},
   "outputs": [],
   "source": []
  }
 ],
 "metadata": {
  "kernelspec": {
   "display_name": "Python 3",
   "language": "python",
   "name": "python3"
  },
  "language_info": {
   "codemirror_mode": {
    "name": "ipython",
    "version": 3
   },
   "file_extension": ".py",
   "mimetype": "text/x-python",
   "name": "python",
   "nbconvert_exporter": "python",
   "pygments_lexer": "ipython3",
   "version": "3.6.3"
  }
 },
 "nbformat": 4,
 "nbformat_minor": 2
}
